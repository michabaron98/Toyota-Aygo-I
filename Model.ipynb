{
 "cells": [
  {
   "cell_type": "code",
   "execution_count": 1,
   "id": "0d74c357-281a-408c-a4db-c08379b47a0e",
   "metadata": {},
   "outputs": [],
   "source": [
    "import pandas as pd\n",
    "from sklearn.model_selection import train_test_split\n",
    "from sklearn.tree import DecisionTreeRegressor"
   ]
  },
  {
   "cell_type": "code",
   "execution_count": 2,
   "id": "8006f977-6e13-4cc7-ae37-49f6f76996ba",
   "metadata": {},
   "outputs": [],
   "source": [
    "Train_data_path=\"Toyota_aygo_I.csv\""
   ]
  },
  {
   "cell_type": "code",
   "execution_count": 3,
   "id": "8005bbf3-46f9-48ed-8f24-d5e0c898a2d4",
   "metadata": {},
   "outputs": [],
   "source": [
    "training_file=pd.read_csv(Train_data_path)"
   ]
  },
  {
   "cell_type": "code",
   "execution_count": 4,
   "id": "66829cf7-ca01-4036-9c8a-2edf47b6b547",
   "metadata": {},
   "outputs": [],
   "source": [
    "Y_training=training_file[[\"price\"]].round(decimals=-2)\n",
    "Features_X=[]\n",
    "X_training_year=training_file[[\"year\"]]\n",
    "X_training_mileage=pd.DataFrame(training_file[[\"mileage\"]].round(decimals=-3),columns=['mileage'])\n",
    "X_training=X_training_year.join(X_training_mileage)\n"
   ]
  },
  {
   "cell_type": "code",
   "execution_count": 5,
   "id": "08656f11-01a8-4222-bfd9-04c9f127cb6f",
   "metadata": {},
   "outputs": [
    {
     "data": {
      "text/html": [
       "<div>\n",
       "<style scoped>\n",
       "    .dataframe tbody tr th:only-of-type {\n",
       "        vertical-align: middle;\n",
       "    }\n",
       "\n",
       "    .dataframe tbody tr th {\n",
       "        vertical-align: top;\n",
       "    }\n",
       "\n",
       "    .dataframe thead th {\n",
       "        text-align: right;\n",
       "    }\n",
       "</style>\n",
       "<table border=\"1\" class=\"dataframe\">\n",
       "  <thead>\n",
       "    <tr style=\"text-align: right;\">\n",
       "      <th></th>\n",
       "      <th>price</th>\n",
       "    </tr>\n",
       "  </thead>\n",
       "  <tbody>\n",
       "    <tr>\n",
       "      <th>0</th>\n",
       "      <td>13500</td>\n",
       "    </tr>\n",
       "    <tr>\n",
       "      <th>1</th>\n",
       "      <td>12900</td>\n",
       "    </tr>\n",
       "    <tr>\n",
       "      <th>2</th>\n",
       "      <td>14000</td>\n",
       "    </tr>\n",
       "    <tr>\n",
       "      <th>3</th>\n",
       "      <td>10800</td>\n",
       "    </tr>\n",
       "    <tr>\n",
       "      <th>4</th>\n",
       "      <td>8000</td>\n",
       "    </tr>\n",
       "  </tbody>\n",
       "</table>\n",
       "</div>"
      ],
      "text/plain": [
       "   price\n",
       "0  13500\n",
       "1  12900\n",
       "2  14000\n",
       "3  10800\n",
       "4   8000"
      ]
     },
     "execution_count": 5,
     "metadata": {},
     "output_type": "execute_result"
    }
   ],
   "source": [
    "Y_training.head()"
   ]
  },
  {
   "cell_type": "code",
   "execution_count": 6,
   "id": "325d99ca-fe5d-4ed3-b94b-f4dd9a8901b5",
   "metadata": {},
   "outputs": [
    {
     "data": {
      "text/html": [
       "<div>\n",
       "<style scoped>\n",
       "    .dataframe tbody tr th:only-of-type {\n",
       "        vertical-align: middle;\n",
       "    }\n",
       "\n",
       "    .dataframe tbody tr th {\n",
       "        vertical-align: top;\n",
       "    }\n",
       "\n",
       "    .dataframe thead th {\n",
       "        text-align: right;\n",
       "    }\n",
       "</style>\n",
       "<table border=\"1\" class=\"dataframe\">\n",
       "  <thead>\n",
       "    <tr style=\"text-align: right;\">\n",
       "      <th></th>\n",
       "      <th>year</th>\n",
       "      <th>mileage</th>\n",
       "    </tr>\n",
       "  </thead>\n",
       "  <tbody>\n",
       "    <tr>\n",
       "      <th>0</th>\n",
       "      <td>2010</td>\n",
       "      <td>133000</td>\n",
       "    </tr>\n",
       "    <tr>\n",
       "      <th>1</th>\n",
       "      <td>2006</td>\n",
       "      <td>144000</td>\n",
       "    </tr>\n",
       "    <tr>\n",
       "      <th>2</th>\n",
       "      <td>2010</td>\n",
       "      <td>102000</td>\n",
       "    </tr>\n",
       "    <tr>\n",
       "      <th>3</th>\n",
       "      <td>2008</td>\n",
       "      <td>141000</td>\n",
       "    </tr>\n",
       "    <tr>\n",
       "      <th>4</th>\n",
       "      <td>2005</td>\n",
       "      <td>179000</td>\n",
       "    </tr>\n",
       "  </tbody>\n",
       "</table>\n",
       "</div>"
      ],
      "text/plain": [
       "   year  mileage\n",
       "0  2010   133000\n",
       "1  2006   144000\n",
       "2  2010   102000\n",
       "3  2008   141000\n",
       "4  2005   179000"
      ]
     },
     "execution_count": 6,
     "metadata": {},
     "output_type": "execute_result"
    }
   ],
   "source": [
    "X_training.head()"
   ]
  },
  {
   "cell_type": "code",
   "execution_count": 7,
   "id": "dbaa4ddd-ecb0-4e80-b53b-42c10235c778",
   "metadata": {},
   "outputs": [],
   "source": [
    "model=DecisionTreeRegressor()\n",
    "model.fit(X_training, Y_training)\n",
    "predictions=model.predict(X_training)"
   ]
  },
  {
   "cell_type": "code",
   "execution_count": 14,
   "id": "90360b63-5c80-4669-a8c8-de98c9abafe7",
   "metadata": {},
   "outputs": [
    {
     "name": "stdout",
     "output_type": "stream",
     "text": [
      "[13900.]\n"
     ]
    }
   ],
   "source": [
    "moja_toyota=[]\n",
    "moja_toyota.append([2011,118000])\n",
    "moja_toyota_df=pd.DataFrame(moja_toyota, columns=[\"year\",\"mileage\"])\n",
    "predictions=model.predict(moja_toyota_df)\n",
    "print(predictions)"
   ]
  },
  {
   "cell_type": "code",
   "execution_count": null,
   "id": "ca80a745-b435-47c7-8071-2f5fa12d2733",
   "metadata": {},
   "outputs": [],
   "source": []
  },
  {
   "cell_type": "code",
   "execution_count": null,
   "id": "b649ed5f-baeb-4a27-b397-759c9a68ed9c",
   "metadata": {},
   "outputs": [],
   "source": []
  }
 ],
 "metadata": {
  "kernelspec": {
   "display_name": "Python 3",
   "language": "python",
   "name": "python3"
  },
  "language_info": {
   "codemirror_mode": {
    "name": "ipython",
    "version": 3
   },
   "file_extension": ".py",
   "mimetype": "text/x-python",
   "name": "python",
   "nbconvert_exporter": "python",
   "pygments_lexer": "ipython3",
   "version": "3.8.8"
  }
 },
 "nbformat": 4,
 "nbformat_minor": 5
}
